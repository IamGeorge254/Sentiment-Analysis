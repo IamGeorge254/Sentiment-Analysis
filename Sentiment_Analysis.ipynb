{
 "cells": [
  {
   "cell_type": "code",
   "execution_count": 1,
   "id": "156c7bab-8367-429c-8c9e-befdf42db03c",
   "metadata": {},
   "outputs": [
    {
     "name": "stdout",
     "output_type": "stream",
     "text": [
      "Requirement already satisfied: nltk in c:\\programdata\\anaconda3\\lib\\site-packages (3.9.1)\n",
      "Requirement already satisfied: click in c:\\programdata\\anaconda3\\lib\\site-packages (from nltk) (8.1.8)\n",
      "Requirement already satisfied: joblib in c:\\programdata\\anaconda3\\lib\\site-packages (from nltk) (1.4.2)\n",
      "Requirement already satisfied: regex>=2021.8.3 in c:\\programdata\\anaconda3\\lib\\site-packages (from nltk) (2024.11.6)\n",
      "Requirement already satisfied: tqdm in c:\\programdata\\anaconda3\\lib\\site-packages (from nltk) (4.67.1)\n",
      "Requirement already satisfied: colorama in c:\\programdata\\anaconda3\\lib\\site-packages (from click->nltk) (0.4.6)\n",
      "Note: you may need to restart the kernel to use updated packages.\n"
     ]
    }
   ],
   "source": [
    "%pip install --user nltk"
   ]
  },
  {
   "cell_type": "code",
   "execution_count": 2,
   "id": "c7f141db-bffc-43a7-811d-4cf71b67914d",
   "metadata": {},
   "outputs": [
    {
     "name": "stderr",
     "output_type": "stream",
     "text": [
      "[nltk_data] Downloading package punkt_tab to\n",
      "[nltk_data]     C:\\Users\\USER\\AppData\\Roaming\\nltk_data...\n",
      "[nltk_data]   Package punkt_tab is already up-to-date!\n",
      "[nltk_data] Downloading package averaged_perceptron_tagger_eng to\n",
      "[nltk_data]     C:\\Users\\USER\\AppData\\Roaming\\nltk_data...\n",
      "[nltk_data]   Package averaged_perceptron_tagger_eng is already up-to-\n",
      "[nltk_data]       date!\n",
      "[nltk_data] Downloading package maxent_ne_chunker_tab to\n",
      "[nltk_data]     C:\\Users\\USER\\AppData\\Roaming\\nltk_data...\n",
      "[nltk_data]   Package maxent_ne_chunker_tab is already up-to-date!\n",
      "[nltk_data] Downloading package words to\n",
      "[nltk_data]     C:\\Users\\USER\\AppData\\Roaming\\nltk_data...\n",
      "[nltk_data]   Package words is already up-to-date!\n",
      "[nltk_data] Downloading package vader_lexicon to\n",
      "[nltk_data]     C:\\Users\\USER\\AppData\\Roaming\\nltk_data...\n",
      "[nltk_data]   Package vader_lexicon is already up-to-date!\n"
     ]
    },
    {
     "data": {
      "text/plain": [
       "True"
      ]
     },
     "execution_count": 2,
     "metadata": {},
     "output_type": "execute_result"
    }
   ],
   "source": [
    "# Import Libraries\n",
    "import pandas as pd\n",
    "import numpy as np\n",
    "import matplotlib.pyplot as plt\n",
    "import seaborn as sns\n",
    "plt.style.use('ggplot')  # Style sheet for our imports\n",
    "import nltk\n",
    "nltk.download('punkt_tab')\n",
    "nltk.download('averaged_perceptron_tagger_eng') \n",
    "nltk.download('maxent_ne_chunker_tab')\n",
    "nltk.download('words')\n",
    "nltk.download('vader_lexicon')"
   ]
  },
  {
   "cell_type": "code",
   "execution_count": 4,
   "id": "6489b7c4-e2a2-454e-ade3-63ee3a33715f",
   "metadata": {},
   "outputs": [
    {
     "data": {
      "text/html": [
       "<div>\n",
       "<style scoped>\n",
       "    .dataframe tbody tr th:only-of-type {\n",
       "        vertical-align: middle;\n",
       "    }\n",
       "\n",
       "    .dataframe tbody tr th {\n",
       "        vertical-align: top;\n",
       "    }\n",
       "\n",
       "    .dataframe thead th {\n",
       "        text-align: right;\n",
       "    }\n",
       "</style>\n",
       "<table border=\"1\" class=\"dataframe\">\n",
       "  <thead>\n",
       "    <tr style=\"text-align: right;\">\n",
       "      <th></th>\n",
       "      <th>Date received</th>\n",
       "      <th>Product</th>\n",
       "      <th>Sub-product</th>\n",
       "      <th>Issue</th>\n",
       "      <th>Sub-issue</th>\n",
       "      <th>Consumer complaint narrative</th>\n",
       "      <th>Company public response</th>\n",
       "      <th>Company</th>\n",
       "      <th>State</th>\n",
       "      <th>ZIP code</th>\n",
       "      <th>Tags</th>\n",
       "      <th>Consumer consent provided?</th>\n",
       "      <th>Submitted via</th>\n",
       "      <th>Date sent to company</th>\n",
       "      <th>Company response to consumer</th>\n",
       "      <th>Timely response?</th>\n",
       "      <th>Consumer disputed?</th>\n",
       "      <th>Complaint ID</th>\n",
       "    </tr>\n",
       "  </thead>\n",
       "  <tbody>\n",
       "    <tr>\n",
       "      <th>0</th>\n",
       "      <td>06/07/23</td>\n",
       "      <td>Credit reporting, credit repair services, or o...</td>\n",
       "      <td>Credit reporting</td>\n",
       "      <td>Incorrect information on your report</td>\n",
       "      <td>Information belongs to someone else</td>\n",
       "      <td>NaN</td>\n",
       "      <td>NaN</td>\n",
       "      <td>EQUIFAX, INC.</td>\n",
       "      <td>NC</td>\n",
       "      <td>28314</td>\n",
       "      <td>NaN</td>\n",
       "      <td>Consent not provided</td>\n",
       "      <td>Web</td>\n",
       "      <td>06/07/23</td>\n",
       "      <td>Closed with non-monetary relief</td>\n",
       "      <td>Yes</td>\n",
       "      <td>NaN</td>\n",
       "      <td>7084840</td>\n",
       "    </tr>\n",
       "    <tr>\n",
       "      <th>1</th>\n",
       "      <td>08/10/23</td>\n",
       "      <td>Debt collection</td>\n",
       "      <td>Credit card debt</td>\n",
       "      <td>Communication tactics</td>\n",
       "      <td>You told them to stop contacting you, but they...</td>\n",
       "      <td>NaN</td>\n",
       "      <td>NaN</td>\n",
       "      <td>ENCORE CAPITAL GROUP INC.</td>\n",
       "      <td>SC</td>\n",
       "      <td>29137</td>\n",
       "      <td>NaN</td>\n",
       "      <td>Consent not provided</td>\n",
       "      <td>Web</td>\n",
       "      <td>08/10/23</td>\n",
       "      <td>Closed with non-monetary relief</td>\n",
       "      <td>Yes</td>\n",
       "      <td>NaN</td>\n",
       "      <td>7384009</td>\n",
       "    </tr>\n",
       "    <tr>\n",
       "      <th>2</th>\n",
       "      <td>05/17/23</td>\n",
       "      <td>Credit reporting, credit repair services, or o...</td>\n",
       "      <td>Credit reporting</td>\n",
       "      <td>Improper use of your report</td>\n",
       "      <td>Credit inquiries on your report that you don't...</td>\n",
       "      <td>NaN</td>\n",
       "      <td>NaN</td>\n",
       "      <td>EQUIFAX, INC.</td>\n",
       "      <td>AR</td>\n",
       "      <td>72120</td>\n",
       "      <td>NaN</td>\n",
       "      <td>Consent not provided</td>\n",
       "      <td>Web</td>\n",
       "      <td>05/17/23</td>\n",
       "      <td>Closed with explanation</td>\n",
       "      <td>Yes</td>\n",
       "      <td>NaN</td>\n",
       "      <td>6989930</td>\n",
       "    </tr>\n",
       "    <tr>\n",
       "      <th>3</th>\n",
       "      <td>11/02/23</td>\n",
       "      <td>Credit reporting or other personal consumer re...</td>\n",
       "      <td>Credit reporting</td>\n",
       "      <td>Improper use of your report</td>\n",
       "      <td>Reporting company used your report improperly</td>\n",
       "      <td>NaN</td>\n",
       "      <td>Company has responded to the consumer and the ...</td>\n",
       "      <td>Experian Information Solutions Inc.</td>\n",
       "      <td>AL</td>\n",
       "      <td>35022</td>\n",
       "      <td>NaN</td>\n",
       "      <td>Consent not provided</td>\n",
       "      <td>Web</td>\n",
       "      <td>11/02/23</td>\n",
       "      <td>Closed with non-monetary relief</td>\n",
       "      <td>Yes</td>\n",
       "      <td>NaN</td>\n",
       "      <td>7791286</td>\n",
       "    </tr>\n",
       "    <tr>\n",
       "      <th>4</th>\n",
       "      <td>11/16/23</td>\n",
       "      <td>Credit reporting or other personal consumer re...</td>\n",
       "      <td>Credit reporting</td>\n",
       "      <td>Incorrect information on your report</td>\n",
       "      <td>Information belongs to someone else</td>\n",
       "      <td>NaN</td>\n",
       "      <td>Company has responded to the consumer and the ...</td>\n",
       "      <td>Experian Information Solutions Inc.</td>\n",
       "      <td>TX</td>\n",
       "      <td>78539</td>\n",
       "      <td>NaN</td>\n",
       "      <td>Consent not provided</td>\n",
       "      <td>Web</td>\n",
       "      <td>11/16/23</td>\n",
       "      <td>Closed with explanation</td>\n",
       "      <td>Yes</td>\n",
       "      <td>NaN</td>\n",
       "      <td>7860148</td>\n",
       "    </tr>\n",
       "  </tbody>\n",
       "</table>\n",
       "</div>"
      ],
      "text/plain": [
       "  Date received                                            Product  \\\n",
       "0      06/07/23  Credit reporting, credit repair services, or o...   \n",
       "1      08/10/23                                    Debt collection   \n",
       "2      05/17/23  Credit reporting, credit repair services, or o...   \n",
       "3      11/02/23  Credit reporting or other personal consumer re...   \n",
       "4      11/16/23  Credit reporting or other personal consumer re...   \n",
       "\n",
       "        Sub-product                                 Issue  \\\n",
       "0  Credit reporting  Incorrect information on your report   \n",
       "1  Credit card debt                 Communication tactics   \n",
       "2  Credit reporting           Improper use of your report   \n",
       "3  Credit reporting           Improper use of your report   \n",
       "4  Credit reporting  Incorrect information on your report   \n",
       "\n",
       "                                           Sub-issue  \\\n",
       "0                Information belongs to someone else   \n",
       "1  You told them to stop contacting you, but they...   \n",
       "2  Credit inquiries on your report that you don't...   \n",
       "3      Reporting company used your report improperly   \n",
       "4                Information belongs to someone else   \n",
       "\n",
       "  Consumer complaint narrative  \\\n",
       "0                          NaN   \n",
       "1                          NaN   \n",
       "2                          NaN   \n",
       "3                          NaN   \n",
       "4                          NaN   \n",
       "\n",
       "                             Company public response  \\\n",
       "0                                                NaN   \n",
       "1                                                NaN   \n",
       "2                                                NaN   \n",
       "3  Company has responded to the consumer and the ...   \n",
       "4  Company has responded to the consumer and the ...   \n",
       "\n",
       "                               Company State ZIP code Tags  \\\n",
       "0                        EQUIFAX, INC.    NC    28314  NaN   \n",
       "1            ENCORE CAPITAL GROUP INC.    SC    29137  NaN   \n",
       "2                        EQUIFAX, INC.    AR    72120  NaN   \n",
       "3  Experian Information Solutions Inc.    AL    35022  NaN   \n",
       "4  Experian Information Solutions Inc.    TX    78539  NaN   \n",
       "\n",
       "  Consumer consent provided? Submitted via Date sent to company  \\\n",
       "0       Consent not provided           Web             06/07/23   \n",
       "1       Consent not provided           Web             08/10/23   \n",
       "2       Consent not provided           Web             05/17/23   \n",
       "3       Consent not provided           Web             11/02/23   \n",
       "4       Consent not provided           Web             11/16/23   \n",
       "\n",
       "      Company response to consumer Timely response?  Consumer disputed?  \\\n",
       "0  Closed with non-monetary relief              Yes                 NaN   \n",
       "1  Closed with non-monetary relief              Yes                 NaN   \n",
       "2          Closed with explanation              Yes                 NaN   \n",
       "3  Closed with non-monetary relief              Yes                 NaN   \n",
       "4          Closed with explanation              Yes                 NaN   \n",
       "\n",
       "   Complaint ID  \n",
       "0       7084840  \n",
       "1       7384009  \n",
       "2       6989930  \n",
       "3       7791286  \n",
       "4       7860148  "
      ]
     },
     "execution_count": 4,
     "metadata": {},
     "output_type": "execute_result"
    }
   ],
   "source": [
    "df = pd.read_csv(r'C:\\Users\\USER\\Desktop\\SQL and Excel Files\\complaints-2025-09-15_05_03.csv')\n",
    "df.head()"
   ]
  },
  {
   "cell_type": "code",
   "execution_count": 5,
   "id": "fa9ffef7-b0b5-470d-8a05-add7ca439b6e",
   "metadata": {},
   "outputs": [
    {
     "data": {
      "text/plain": [
       "(1172203, 18)"
      ]
     },
     "execution_count": 5,
     "metadata": {},
     "output_type": "execute_result"
    }
   ],
   "source": [
    "df.shape"
   ]
  },
  {
   "cell_type": "code",
   "execution_count": 6,
   "id": "0f490ce4-fa35-4a91-948c-6f7020f8e920",
   "metadata": {},
   "outputs": [
    {
     "data": {
      "text/html": [
       "<div>\n",
       "<style scoped>\n",
       "    .dataframe tbody tr th:only-of-type {\n",
       "        vertical-align: middle;\n",
       "    }\n",
       "\n",
       "    .dataframe tbody tr th {\n",
       "        vertical-align: top;\n",
       "    }\n",
       "\n",
       "    .dataframe thead th {\n",
       "        text-align: right;\n",
       "    }\n",
       "</style>\n",
       "<table border=\"1\" class=\"dataframe\">\n",
       "  <thead>\n",
       "    <tr style=\"text-align: right;\">\n",
       "      <th></th>\n",
       "      <th>column_name</th>\n",
       "      <th>null_values</th>\n",
       "      <th>nulls(%)</th>\n",
       "    </tr>\n",
       "  </thead>\n",
       "  <tbody>\n",
       "    <tr>\n",
       "      <th>0</th>\n",
       "      <td>Date received</td>\n",
       "      <td>0</td>\n",
       "      <td>0.000000</td>\n",
       "    </tr>\n",
       "    <tr>\n",
       "      <th>1</th>\n",
       "      <td>Product</td>\n",
       "      <td>0</td>\n",
       "      <td>0.000000</td>\n",
       "    </tr>\n",
       "    <tr>\n",
       "      <th>2</th>\n",
       "      <td>Sub-product</td>\n",
       "      <td>0</td>\n",
       "      <td>0.000000</td>\n",
       "    </tr>\n",
       "    <tr>\n",
       "      <th>3</th>\n",
       "      <td>Issue</td>\n",
       "      <td>0</td>\n",
       "      <td>0.000000</td>\n",
       "    </tr>\n",
       "    <tr>\n",
       "      <th>4</th>\n",
       "      <td>Sub-issue</td>\n",
       "      <td>4896</td>\n",
       "      <td>0.417675</td>\n",
       "    </tr>\n",
       "    <tr>\n",
       "      <th>5</th>\n",
       "      <td>Consumer complaint narrative</td>\n",
       "      <td>753628</td>\n",
       "      <td>64.291595</td>\n",
       "    </tr>\n",
       "    <tr>\n",
       "      <th>6</th>\n",
       "      <td>Company public response</td>\n",
       "      <td>463036</td>\n",
       "      <td>39.501349</td>\n",
       "    </tr>\n",
       "    <tr>\n",
       "      <th>7</th>\n",
       "      <td>Company</td>\n",
       "      <td>0</td>\n",
       "      <td>0.000000</td>\n",
       "    </tr>\n",
       "    <tr>\n",
       "      <th>8</th>\n",
       "      <td>State</td>\n",
       "      <td>2180</td>\n",
       "      <td>0.185975</td>\n",
       "    </tr>\n",
       "    <tr>\n",
       "      <th>9</th>\n",
       "      <td>ZIP code</td>\n",
       "      <td>76</td>\n",
       "      <td>0.006484</td>\n",
       "    </tr>\n",
       "    <tr>\n",
       "      <th>10</th>\n",
       "      <td>Tags</td>\n",
       "      <td>1105473</td>\n",
       "      <td>94.307300</td>\n",
       "    </tr>\n",
       "    <tr>\n",
       "      <th>11</th>\n",
       "      <td>Consumer consent provided?</td>\n",
       "      <td>20716</td>\n",
       "      <td>1.767271</td>\n",
       "    </tr>\n",
       "    <tr>\n",
       "      <th>12</th>\n",
       "      <td>Submitted via</td>\n",
       "      <td>0</td>\n",
       "      <td>0.000000</td>\n",
       "    </tr>\n",
       "    <tr>\n",
       "      <th>13</th>\n",
       "      <td>Date sent to company</td>\n",
       "      <td>0</td>\n",
       "      <td>0.000000</td>\n",
       "    </tr>\n",
       "    <tr>\n",
       "      <th>14</th>\n",
       "      <td>Company response to consumer</td>\n",
       "      <td>5</td>\n",
       "      <td>0.000427</td>\n",
       "    </tr>\n",
       "    <tr>\n",
       "      <th>15</th>\n",
       "      <td>Timely response?</td>\n",
       "      <td>0</td>\n",
       "      <td>0.000000</td>\n",
       "    </tr>\n",
       "    <tr>\n",
       "      <th>16</th>\n",
       "      <td>Consumer disputed?</td>\n",
       "      <td>1172203</td>\n",
       "      <td>100.000000</td>\n",
       "    </tr>\n",
       "    <tr>\n",
       "      <th>17</th>\n",
       "      <td>Complaint ID</td>\n",
       "      <td>0</td>\n",
       "      <td>0.000000</td>\n",
       "    </tr>\n",
       "  </tbody>\n",
       "</table>\n",
       "</div>"
      ],
      "text/plain": [
       "                     column_name  null_values    nulls(%)\n",
       "0                  Date received            0    0.000000\n",
       "1                        Product            0    0.000000\n",
       "2                    Sub-product            0    0.000000\n",
       "3                          Issue            0    0.000000\n",
       "4                      Sub-issue         4896    0.417675\n",
       "5   Consumer complaint narrative       753628   64.291595\n",
       "6        Company public response       463036   39.501349\n",
       "7                        Company            0    0.000000\n",
       "8                          State         2180    0.185975\n",
       "9                       ZIP code           76    0.006484\n",
       "10                          Tags      1105473   94.307300\n",
       "11    Consumer consent provided?        20716    1.767271\n",
       "12                 Submitted via            0    0.000000\n",
       "13          Date sent to company            0    0.000000\n",
       "14  Company response to consumer            5    0.000427\n",
       "15              Timely response?            0    0.000000\n",
       "16            Consumer disputed?      1172203  100.000000\n",
       "17                  Complaint ID            0    0.000000"
      ]
     },
     "execution_count": 6,
     "metadata": {},
     "output_type": "execute_result"
    }
   ],
   "source": [
    "nulls = df.isnull().sum().reset_index()\n",
    "nulls.rename(columns={'index': 'column_name', 0: 'null_values'}, inplace=True)\n",
    "\n",
    "nulls['nulls(%)'] = (nulls['null_values'] / len(df)) * 100\n",
    "nulls"
   ]
  },
  {
   "cell_type": "code",
   "execution_count": 7,
   "id": "49da4f32-77af-4855-a495-fb0901695d60",
   "metadata": {},
   "outputs": [],
   "source": [
    "# Dropping unnecessary columns\n",
    "new_df = df.drop(columns=['Consumer disputed?', 'Tags', 'Sub-product', 'Sub-issue'])"
   ]
  },
  {
   "cell_type": "code",
   "execution_count": 8,
   "id": "49d1bb6c-5aa2-4581-833d-22cc0625adf4",
   "metadata": {},
   "outputs": [
    {
     "data": {
      "text/plain": [
       "(1172203, 14)"
      ]
     },
     "execution_count": 8,
     "metadata": {},
     "output_type": "execute_result"
    }
   ],
   "source": [
    "new_df.shape"
   ]
  },
  {
   "cell_type": "markdown",
   "id": "cb877a52-ffa6-42d9-8760-dcf5ac4804fd",
   "metadata": {},
   "source": [
    "## Quick Review of Customer Complaint"
   ]
  },
  {
   "cell_type": "code",
   "execution_count": 9,
   "id": "2ebdc475-fad7-4aa1-9110-41483aa31d18",
   "metadata": {},
   "outputs": [
    {
     "ename": "AttributeError",
     "evalue": "'numpy.ndarray' object has no attribute 'reset_index'",
     "output_type": "error",
     "traceback": [
      "\u001b[1;31m---------------------------------------------------------------------------\u001b[0m",
      "\u001b[1;31mAttributeError\u001b[0m                            Traceback (most recent call last)",
      "Cell \u001b[1;32mIn[9], line 1\u001b[0m\n\u001b[1;32m----> 1\u001b[0m complaints \u001b[38;5;241m=\u001b[39m new_df[\u001b[38;5;124m'\u001b[39m\u001b[38;5;124mConsumer complaint narrative\u001b[39m\u001b[38;5;124m'\u001b[39m]\u001b[38;5;241m.\u001b[39munique()\u001b[38;5;241m.\u001b[39mreset_index()\n\u001b[0;32m      2\u001b[0m complaints\u001b[38;5;241m.\u001b[39mhead()\n",
      "\u001b[1;31mAttributeError\u001b[0m: 'numpy.ndarray' object has no attribute 'reset_index'"
     ]
    }
   ],
   "source": [
    "complaints = new_df['Consumer complaint narrative'].unique().reset_index()\n",
    "complaints.head()"
   ]
  },
  {
   "cell_type": "code",
   "execution_count": 10,
   "id": "82b92410-7aa3-4f7e-893f-7707a84414fb",
   "metadata": {},
   "outputs": [
    {
     "name": "stdout",
     "output_type": "stream",
     "text": [
      "282430\n"
     ]
    },
    {
     "data": {
      "text/html": [
       "<div>\n",
       "<style scoped>\n",
       "    .dataframe tbody tr th:only-of-type {\n",
       "        vertical-align: middle;\n",
       "    }\n",
       "\n",
       "    .dataframe tbody tr th {\n",
       "        vertical-align: top;\n",
       "    }\n",
       "\n",
       "    .dataframe thead th {\n",
       "        text-align: right;\n",
       "    }\n",
       "</style>\n",
       "<table border=\"1\" class=\"dataframe\">\n",
       "  <thead>\n",
       "    <tr style=\"text-align: right;\">\n",
       "      <th></th>\n",
       "      <th>complaint</th>\n",
       "    </tr>\n",
       "  </thead>\n",
       "  <tbody>\n",
       "    <tr>\n",
       "      <th>0</th>\n",
       "      <td>NaN</td>\n",
       "    </tr>\n",
       "    <tr>\n",
       "      <th>1</th>\n",
       "      <td>Back in XXXX XXXX XXXX, we were finally approv...</td>\n",
       "    </tr>\n",
       "    <tr>\n",
       "      <th>2</th>\n",
       "      <td>XXXX XXXX XXXX XXXX XXXX XXXX XXXX XXXX XXXX X...</td>\n",
       "    </tr>\n",
       "    <tr>\n",
       "      <th>3</th>\n",
       "      <td>I am very concerned because my credit reports ...</td>\n",
       "    </tr>\n",
       "    <tr>\n",
       "      <th>4</th>\n",
       "      <td>I am sincerely pleading with you to remove thi...</td>\n",
       "    </tr>\n",
       "    <tr>\n",
       "      <th>5</th>\n",
       "      <td>Contacted agency no information matched mine. ...</td>\n",
       "    </tr>\n",
       "    <tr>\n",
       "      <th>6</th>\n",
       "      <td>To let the credit bureaus know that the inquir...</td>\n",
       "    </tr>\n",
       "    <tr>\n",
       "      <th>7</th>\n",
       "      <td>AS OF XX/XX/XXXX I HAVE NOTICED FRAUD ACCOUNTS...</td>\n",
       "    </tr>\n",
       "    <tr>\n",
       "      <th>8</th>\n",
       "      <td>I've been having a lot of issues with Experian...</td>\n",
       "    </tr>\n",
       "    <tr>\n",
       "      <th>9</th>\n",
       "      <td>This account has caused me significant distres...</td>\n",
       "    </tr>\n",
       "    <tr>\n",
       "      <th>10</th>\n",
       "      <td>When I investigated my credit report, I realiz...</td>\n",
       "    </tr>\n",
       "    <tr>\n",
       "      <th>11</th>\n",
       "      <td>I initiated a dispute with the company against...</td>\n",
       "    </tr>\n",
       "    <tr>\n",
       "      <th>12</th>\n",
       "      <td>I sent a letter to remove items that are UNKNO...</td>\n",
       "    </tr>\n",
       "    <tr>\n",
       "      <th>13</th>\n",
       "      <td>Account is not reporting valid and accurate in...</td>\n",
       "    </tr>\n",
       "    <tr>\n",
       "      <th>14</th>\n",
       "      <td>Recently we reviewed our credit reports, and h...</td>\n",
       "    </tr>\n",
       "    <tr>\n",
       "      <th>15</th>\n",
       "      <td>This is my seventh endeavor to tell you that I...</td>\n",
       "    </tr>\n",
       "    <tr>\n",
       "      <th>16</th>\n",
       "      <td>I went to redeem my reward points valued at {$...</td>\n",
       "    </tr>\n",
       "    <tr>\n",
       "      <th>17</th>\n",
       "      <td>In accordance with the Fair Credit Reporting A...</td>\n",
       "    </tr>\n",
       "    <tr>\n",
       "      <th>18</th>\n",
       "      <td>In accordance with the fair credit reporting a...</td>\n",
       "    </tr>\n",
       "    <tr>\n",
       "      <th>19</th>\n",
       "      <td>In accordance with the fair credit Reporting a...</td>\n",
       "    </tr>\n",
       "  </tbody>\n",
       "</table>\n",
       "</div>"
      ],
      "text/plain": [
       "                                            complaint\n",
       "0                                                 NaN\n",
       "1   Back in XXXX XXXX XXXX, we were finally approv...\n",
       "2   XXXX XXXX XXXX XXXX XXXX XXXX XXXX XXXX XXXX X...\n",
       "3   I am very concerned because my credit reports ...\n",
       "4   I am sincerely pleading with you to remove thi...\n",
       "5   Contacted agency no information matched mine. ...\n",
       "6   To let the credit bureaus know that the inquir...\n",
       "7   AS OF XX/XX/XXXX I HAVE NOTICED FRAUD ACCOUNTS...\n",
       "8   I've been having a lot of issues with Experian...\n",
       "9   This account has caused me significant distres...\n",
       "10  When I investigated my credit report, I realiz...\n",
       "11  I initiated a dispute with the company against...\n",
       "12  I sent a letter to remove items that are UNKNO...\n",
       "13  Account is not reporting valid and accurate in...\n",
       "14  Recently we reviewed our credit reports, and h...\n",
       "15  This is my seventh endeavor to tell you that I...\n",
       "16  I went to redeem my reward points valued at {$...\n",
       "17  In accordance with the Fair Credit Reporting A...\n",
       "18  In accordance with the fair credit reporting a...\n",
       "19  In accordance with the fair credit Reporting a..."
      ]
     },
     "execution_count": 10,
     "metadata": {},
     "output_type": "execute_result"
    }
   ],
   "source": [
    "# Get unique complaint narratives as a Series\n",
    "complaints = pd.Series(new_df['Consumer complaint narrative'].unique())\n",
    "\n",
    "# Convert to DataFrame\n",
    "complaints_df = complaints.to_frame(name='complaint').reset_index(drop=True)\n",
    "\n",
    "print(len(complaints_df))\n",
    "complaints_df.head(20)"
   ]
  },
  {
   "cell_type": "markdown",
   "id": "8f5728aa-7a86-4d98-9d3a-9a8097d5dcdd",
   "metadata": {},
   "source": [
    "## Basic NLTK"
   ]
  },
  {
   "cell_type": "code",
   "execution_count": 11,
   "id": "3e9b1175-5fb5-47ff-bd43-ab526dba2a82",
   "metadata": {},
   "outputs": [
    {
     "name": "stdout",
     "output_type": "stream",
     "text": [
      "I went to redeem my reward points valued at {$1200.00} from Chase on a credit card ending in XXXX. I received the confirmation email, but the money never made it to my account. I called chase and they confirmed my account number and routing number were correct. They said the points should be corrected and in my account within 1-2 business days, but they still havent shown. Ive tried calling the bank multiple times and my calls wont go through.\n"
     ]
    }
   ],
   "source": [
    "example = complaints_df['complaint'][16]\n",
    "print(example)"
   ]
  },
  {
   "cell_type": "code",
   "execution_count": 12,
   "id": "de27330e-5d45-41f9-904b-034bc4e242f7",
   "metadata": {},
   "outputs": [
    {
     "data": {
      "text/plain": [
       "['I',\n",
       " 'went',\n",
       " 'to',\n",
       " 'redeem',\n",
       " 'my',\n",
       " 'reward',\n",
       " 'points',\n",
       " 'valued',\n",
       " 'at',\n",
       " '{',\n",
       " '$',\n",
       " '1200.00',\n",
       " '}',\n",
       " 'from',\n",
       " 'Chase',\n",
       " 'on',\n",
       " 'a',\n",
       " 'credit',\n",
       " 'card',\n",
       " 'ending']"
      ]
     },
     "execution_count": 12,
     "metadata": {},
     "output_type": "execute_result"
    }
   ],
   "source": [
    "# Lets tokenize our sentence\n",
    "tokens = nltk.word_tokenize(example)\n",
    "tokens[:20] "
   ]
  },
  {
   "cell_type": "code",
   "execution_count": 13,
   "id": "6d89f5eb-68bb-4e3b-9879-117fc26b57ae",
   "metadata": {},
   "outputs": [
    {
     "data": {
      "text/plain": [
       "[('I', 'PRP'),\n",
       " ('went', 'VBD'),\n",
       " ('to', 'TO'),\n",
       " ('redeem', 'VB'),\n",
       " ('my', 'PRP$'),\n",
       " ('reward', 'NN'),\n",
       " ('points', 'NNS'),\n",
       " ('valued', 'VBN'),\n",
       " ('at', 'IN'),\n",
       " ('{', '('),\n",
       " ('$', '$'),\n",
       " ('1200.00', 'CD'),\n",
       " ('}', ')'),\n",
       " ('from', 'IN'),\n",
       " ('Chase', 'NNP'),\n",
       " ('on', 'IN'),\n",
       " ('a', 'DT'),\n",
       " ('credit', 'NN'),\n",
       " ('card', 'NN'),\n",
       " ('ending', 'VBG')]"
      ]
     },
     "execution_count": 13,
     "metadata": {},
     "output_type": "execute_result"
    }
   ],
   "source": [
    "# Using NLTK to find part of speech\n",
    "tagged = nltk.pos_tag(tokens) # Each word has been given its part of speech\n",
    "tagged[:20]"
   ]
  },
  {
   "cell_type": "code",
   "execution_count": 14,
   "id": "1bc45bc1-5fd8-49ae-9aff-80a8b1a61730",
   "metadata": {},
   "outputs": [
    {
     "name": "stdout",
     "output_type": "stream",
     "text": [
      "(S\n",
      "  I/PRP\n",
      "  went/VBD\n",
      "  to/TO\n",
      "  redeem/VB\n",
      "  my/PRP$\n",
      "  reward/NN\n",
      "  points/NNS\n",
      "  valued/VBN\n",
      "  at/IN\n",
      "  {/(\n",
      "  $/$\n",
      "  1200.00/CD\n",
      "  }/)\n",
      "  from/IN\n",
      "  (PERSON Chase/NNP)\n",
      "  on/IN\n",
      "  a/DT\n",
      "  credit/NN\n",
      "  card/NN\n",
      "  ending/VBG\n",
      "  in/IN\n",
      "  (GPE XXXX/NNP)\n",
      "  ./.\n",
      "  I/PRP\n",
      "  received/VBD\n",
      "  the/DT\n",
      "  confirmation/NN\n",
      "  email/NN\n",
      "  ,/,\n",
      "  but/CC\n",
      "  the/DT\n",
      "  money/NN\n",
      "  never/RB\n",
      "  made/VBD\n",
      "  it/PRP\n",
      "  to/TO\n",
      "  my/PRP$\n",
      "  account/NN\n",
      "  ./.\n",
      "  I/PRP\n",
      "  called/VBD\n",
      "  chase/NN\n",
      "  and/CC\n",
      "  they/PRP\n",
      "  confirmed/VBD\n",
      "  my/PRP$\n",
      "  account/NN\n",
      "  number/NN\n",
      "  and/CC\n",
      "  routing/VBG\n",
      "  number/NN\n",
      "  were/VBD\n",
      "  correct/JJ\n",
      "  ./.\n",
      "  They/PRP\n",
      "  said/VBD\n",
      "  the/DT\n",
      "  points/NNS\n",
      "  should/MD\n",
      "  be/VB\n",
      "  corrected/VBN\n",
      "  and/CC\n",
      "  in/IN\n",
      "  my/PRP$\n",
      "  account/NN\n",
      "  within/IN\n",
      "  1-2/JJ\n",
      "  business/NN\n",
      "  days/NNS\n",
      "  ,/,\n",
      "  but/CC\n",
      "  they/PRP\n",
      "  still/RB\n",
      "  havent/VBD\n",
      "  shown/VBN\n",
      "  ./.\n",
      "  (PERSON Ive/NNP)\n",
      "  tried/VBD\n",
      "  calling/VBG\n",
      "  the/DT\n",
      "  bank/NN\n",
      "  multiple/JJ\n",
      "  times/NNS\n",
      "  and/CC\n",
      "  my/PRP$\n",
      "  calls/NNS\n",
      "  wont/VBP\n",
      "  go/VB\n",
      "  through/IN\n",
      "  ./.)\n"
     ]
    }
   ],
   "source": [
    "# For our tags part of speech we put them into an entity\n",
    "entity = nltk.chunk.ne_chunk(tagged)\n",
    "entity.pprint()"
   ]
  },
  {
   "cell_type": "markdown",
   "id": "d0ca02bc-7a84-45ba-8e8f-e59dd9fe0215",
   "metadata": {},
   "source": [
    "## VADER Sentiment Scoring"
   ]
  },
  {
   "cell_type": "code",
   "execution_count": 15,
   "id": "d45f223d-d990-4242-8601-f28b14dff1da",
   "metadata": {},
   "outputs": [],
   "source": [
    "from nltk.sentiment import SentimentIntensityAnalyzer\n",
    "from tqdm.notebook import tqdm\n",
    "\n",
    "sia = SentimentIntensityAnalyzer()"
   ]
  },
  {
   "cell_type": "code",
   "execution_count": 16,
   "id": "8b3bb2c4-b078-45b8-b7b6-78c1654f1ec7",
   "metadata": {},
   "outputs": [
    {
     "data": {
      "text/plain": [
       "{'neg': 0.0, 'neu': 0.417, 'pos': 0.583, 'compound': 0.6369}"
      ]
     },
     "execution_count": 16,
     "metadata": {},
     "output_type": "execute_result"
    }
   ],
   "source": [
    "# Example\n",
    "sia.polarity_scores('I love going for hikes')"
   ]
  },
  {
   "cell_type": "markdown",
   "id": "d3ef8bc3-bc03-4016-92d1-b37176269b59",
   "metadata": {},
   "source": [
    "For our Example, it was tagged mostly as positive"
   ]
  },
  {
   "cell_type": "code",
   "execution_count": 17,
   "id": "0a8c097d-afa6-4a21-9004-a698db30e09b",
   "metadata": {},
   "outputs": [
    {
     "data": {
      "text/plain": [
       "{'neg': 0.403, 'neu': 0.597, 'pos': 0.0, 'compound': -0.4019}"
      ]
     },
     "execution_count": 17,
     "metadata": {},
     "output_type": "execute_result"
    }
   ],
   "source": [
    "# Example\n",
    "sia.polarity_scores('You are in big trouble')"
   ]
  },
  {
   "cell_type": "markdown",
   "id": "7b298da9-6710-4396-83f1-8027fd255762",
   "metadata": {},
   "source": [
    "Tagged mostly on the negative and neutral side"
   ]
  },
  {
   "cell_type": "code",
   "execution_count": 18,
   "id": "2407371f-d7b7-44bf-94f5-ec8085b15173",
   "metadata": {},
   "outputs": [
    {
     "data": {
      "text/plain": [
       "{'neg': 0.0, 'neu': 0.887, 'pos': 0.113, 'compound': 0.7184}"
      ]
     },
     "execution_count": 18,
     "metadata": {},
     "output_type": "execute_result"
    }
   ],
   "source": [
    "# Lets see for our previos example\n",
    "sia.polarity_scores(example)"
   ]
  },
  {
   "cell_type": "markdown",
   "id": "a714e900-f075-4361-8949-5ba2340b4303",
   "metadata": {},
   "source": [
    "Tagged as neutral score"
   ]
  },
  {
   "cell_type": "markdown",
   "id": "29dc40e0-61f2-4e24-9830-5e1b03b15d6d",
   "metadata": {},
   "source": [
    "## Know lets run the polarity score on the entire dataset."
   ]
  },
  {
   "cell_type": "code",
   "execution_count": 19,
   "id": "6aa70d20-2cdc-40ec-b9fd-73f63542c7d1",
   "metadata": {},
   "outputs": [
    {
     "name": "stderr",
     "output_type": "stream",
     "text": [
      "100%|███████████████████████████████████████████████████████████████████████| 1172203/1172203 [33:32<00:00, 582.60it/s]\n"
     ]
    }
   ],
   "source": [
    "from tqdm import tqdm\n",
    "tqdm.pandas()   # enable progress bar for pandas apply\n",
    "\n",
    "# This is how we would handle our Nan Values\n",
    "new_df['text_status'] = new_df['Consumer complaint narrative'].apply(\n",
    "    lambda x: \"No text\" if pd.isna(x) else \"To analyze\"\n",
    ")\n",
    "\n",
    "# Sentiment analysis function with NaN handling\n",
    "def compute_sentiment(text):\n",
    "    if pd.isna(text):  # handle missing text\n",
    "        return pd.Series({'sentiment_score': None, 'sentiment_label': 'No text'})\n",
    "\n",
    "    score = sia.polarity_scores(text)['compound']\n",
    "    if score >= 0.05:\n",
    "        label = 'Positive'\n",
    "    elif score <= -0.05:\n",
    "        label = 'Negative'\n",
    "    else:\n",
    "        label = 'Neutral'\n",
    "    return pd.Series({'sentiment_score': score, 'sentiment_label': label})\n",
    "\n",
    "# Apply with progress bar\n",
    "new_df[['sentiment_score', 'sentiment_label']] = new_df['Consumer complaint narrative'].progress_apply(compute_sentiment)"
   ]
  },
  {
   "cell_type": "code",
   "execution_count": 21,
   "id": "955805ab-a2c8-4054-b443-b307bd672219",
   "metadata": {},
   "outputs": [
    {
     "data": {
      "text/plain": [
       "(1172203, 17)"
      ]
     },
     "execution_count": 21,
     "metadata": {},
     "output_type": "execute_result"
    }
   ],
   "source": [
    "new_df.shape"
   ]
  },
  {
   "cell_type": "code",
   "execution_count": 22,
   "id": "0fc075e0-08be-4db5-b67d-d4e1aac340b5",
   "metadata": {},
   "outputs": [],
   "source": [
    "# Save to CSV\n",
    "new_df.to_csv(\"consumer_complaints_sentiment.csv\", index=False, encoding=\"utf-8\")"
   ]
  },
  {
   "cell_type": "code",
   "execution_count": null,
   "id": "3df1b0e5-f981-473b-a940-01b0d3137ad7",
   "metadata": {},
   "outputs": [],
   "source": []
  }
 ],
 "metadata": {
  "kernelspec": {
   "display_name": "Python [conda env:base] *",
   "language": "python",
   "name": "conda-base-py"
  },
  "language_info": {
   "codemirror_mode": {
    "name": "ipython",
    "version": 3
   },
   "file_extension": ".py",
   "mimetype": "text/x-python",
   "name": "python",
   "nbconvert_exporter": "python",
   "pygments_lexer": "ipython3",
   "version": "3.13.5"
  }
 },
 "nbformat": 4,
 "nbformat_minor": 5
}
